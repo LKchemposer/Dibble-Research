{
 "cells": [
  {
   "cell_type": "code",
   "execution_count": 136,
   "metadata": {},
   "outputs": [
    {
     "name": "stdout",
     "output_type": "stream",
     "text": [
      "Populating the interactive namespace from numpy and matplotlib\n"
     ]
    }
   ],
   "source": [
    "import pandas as pd\n",
    "% pylab inline\n",
    "import sys"
   ]
  },
  {
   "cell_type": "code",
   "execution_count": 137,
   "metadata": {},
   "outputs": [],
   "source": [
    "def species(df, ss):\n",
    "    if ss == 'all':\n",
    "        return df.columns[1:].values\n",
    "    elif ss == 'cations':\n",
    "        return df.columns[df.columns.str.contains('\\+')].values\n",
    "    elif ss == 'anions':\n",
    "        return df.columns[df.columns.str.contains('-')].values\n",
    "    elif type(ss) == list:\n",
    "        return ss\n",
    "    else: return df.columns[1:][~(df.columns[1:].str.contains('\\+') |\n",
    "                                  df.columns[1:].str.contains('-'))].values"
   ]
  },
  {
   "cell_type": "code",
   "execution_count": 138,
   "metadata": {},
   "outputs": [],
   "source": [
    "def timestamps(df, ntimes):\n",
    "    senses = [int(i.split('SENSIT')[1]) for i in df.keys() if 'SENSIT' in i]\n",
    "    if ntimes == 'last':\n",
    "        return [max(senses)]\n",
    "    elif ntimes == 'all':\n",
    "        return senses\n",
    "    else: return senses[::int(ntimes)]"
   ]
  },
  {
   "cell_type": "code",
   "execution_count": 139,
   "metadata": {},
   "outputs": [],
   "source": [
    "def clean_conc(df):\n",
    "    df.columns = df.iloc[0, :].str.strip()\n",
    "    df.drop(0, inplace=True)\n",
    "    df = df.astype(float)\n",
    "    return df"
   ]
  },
  {
   "cell_type": "code",
   "execution_count": 140,
   "metadata": {},
   "outputs": [],
   "source": [
    "def clean_mod(df):\n",
    "    df.drop([0, len(df) - 1], inplace=True)\n",
    "    df.iloc[:, :3] = df.iloc[:, :3].astype(float)\n",
    "    df.insert(0, 'k()', range(1, len(df) + 1))\n",
    "    df = df.iloc[:, :5].shift()\n",
    "    df.iloc[0, :] = ['k#', 'A', 'T^m', 'Ea', 'Reaction']\n",
    "    return df"
   ]
  },
  {
   "cell_type": "code",
   "execution_count": 141,
   "metadata": {},
   "outputs": [],
   "source": [
    "def clean_sens(df):\n",
    "    t = float(df.iloc[0, 0].split()[-1])\n",
    "    df.columns = df.iloc[1, :].str.strip()\n",
    "    df.columns.name = ''\n",
    "    df.drop('', axis=1, inplace=True)\n",
    "    df.drop([0, 1], inplace=True)\n",
    "    df = df.astype(float)\n",
    "    df.reset_index(drop=True, inplace=True)\n",
    "    return df, t"
   ]
  },
  {
   "cell_type": "code",
   "execution_count": 142,
   "metadata": {},
   "outputs": [],
   "source": [
    "def analyze_nsa(path, specs='neutral', ntimes=5):\n",
    "    assert type(path) == str, 'PATH should be a string'\n",
    "    \n",
    "    # loading spreadsheet\n",
    "    print('Loading spreadsheet ...')\n",
    "    ktc = pd.read_excel(path, sheet_name=None, header=None)\n",
    "    conc, mod, spec = clean_conc(ktc['CONC']), clean_mod(ktc['model']), ktc['species']\n",
    "    \n",
    "    # species of interest\n",
    "    ss = species(conc, specs)\n",
    "    print('Species of interest:', ', '.join(ss))\n",
    "    \n",
    "    # dose rate = conc. of source?\n",
    "    drate = spec[spec[0] == 'source'][2].values[0]\n",
    "    print('Extracted dose rate: {} molecs/cc'.format(drate))\n",
    "    \n",
    "    # number of timestamps\n",
    "    tstamps = timestamps(ktc, ntimes)\n",
    "    \n",
    "    # global G-values df\n",
    "    Gs = pd.DataFrame(np.insert(ss, 0, 'Time')).transpose()\n",
    "\n",
    "    with pd.ExcelWriter('output.xlsx') as w:\n",
    "        mod.to_excel(w, sheet_name='model', header=False, index=False)\n",
    "        print('Writing model to sheet')\n",
    "\n",
    "        for i in tstamps:\n",
    "            sheet = 'SENSIT{:03}'.format(i)\n",
    "\n",
    "            # extract timestamp\n",
    "            sens, t = clean_sens(ktc[sheet])\n",
    "            print('Processing', sheet, '(at {:f} s)'.format(t))\n",
    "\n",
    "            # G(t) = [X](t) / (dose rate * t)\n",
    "            gs = conc.loc[(conc['Time(s)'] - t).abs().idxmin(), ss] / (drate * t)\n",
    "            Gs = Gs.append(pd.DataFrame(np.insert(gs.values, 0, t)).transpose())\n",
    "\n",
    "            try:\n",
    "                # sort NSA by magnitude\n",
    "                rcs = sens[ss].abs().apply(lambda i: i.sort_values(ascending=False).index)\n",
    "            \n",
    "            except KeyError:\n",
    "                print(sheet, 'does not have some species of interest. Extracting available species ...')\n",
    "                nss = [j for j in ss if j in sens.columns]\n",
    "                if len(nss) == 0:\n",
    "                    print(sheet, 'does not have any species of interest. Moving on ...')\n",
    "                    continue\n",
    "                rcs = sens[nss].abs().apply(lambda i: i.sort_values(ascending=False).index)\n",
    "                \n",
    "            rcs_s = 'k(' + (rcs + 1).astype(str) + ')'\n",
    "            print('Sorting rate constants ...')\n",
    "\n",
    "            # values per sorted index\n",
    "            vals = rcs.apply(lambda i: sens.loc[:, i.name][i].values)\n",
    "            nsa = rcs_s.append(vals).sort_index(kind='mergesort').reset_index(drop=True)\n",
    "            nsa = nsa.shift()\n",
    "            nsa.iloc[0, :] = nsa.columns\n",
    "\n",
    "            # write to sheet for each timestamp\n",
    "            nsa.to_excel(w, sheet_name='{:f}'.format(t), header=False, index=False)\n",
    "            print('Writing to Excel ...')\n",
    "\n",
    "        # write G-values df for all timestamps\n",
    "        Gs.to_excel(w, sheet_name='G-values', header=False, index=False)\n",
    "        print('Writing G-values to Excel ...')\n",
    "    \n",
    "    print('Analysis completed. Wrote to file \"output.xlsx\" in the current directory.')"
   ]
  },
  {
   "cell_type": "code",
   "execution_count": 143,
   "metadata": {},
   "outputs": [
    {
     "name": "stdout",
     "output_type": "stream",
     "text": [
      "Loading spreadsheet ...\n",
      "Species of interest: CH4, C2H4, OH, C3H8, H2O\n",
      "Extracted dose rate: 7910000000000000 molecs/cc\n",
      "Writing model to sheet\n",
      "Processing SENSIT060 (at 0.500000 s)\n",
      "SENSIT060 does not have some species of interest. Extracting available species ...\n",
      "Sorting rate constants ...\n",
      "Writing to Excel ...\n",
      "Writing G-values to Excel ...\n",
      "Analysis completed. Wrote to file \"output.xlsx\" in the current directory.\n"
     ]
    }
   ],
   "source": [
    "with open('sample_input.txt', 'r') as ipt:\n",
    "    lines = ipt.readlines()\n",
    "    path, specs, ntimes = lines[0].strip(), lines[1].strip(), lines[2].strip().lower()\n",
    "    if specs.split()[0].lower() == 'custom':\n",
    "        specs = [i.upper() for i in specs.split()[1:]]\n",
    "    analyze_nsa(path=path, specs=specs, ntimes=ntimes)"
   ]
  },
  {
   "cell_type": "code",
   "execution_count": null,
   "metadata": {},
   "outputs": [],
   "source": []
  }
 ],
 "metadata": {
  "kernelspec": {
   "display_name": "Python 3",
   "language": "python",
   "name": "python3"
  },
  "language_info": {
   "codemirror_mode": {
    "name": "ipython",
    "version": 3
   },
   "file_extension": ".py",
   "mimetype": "text/x-python",
   "name": "python",
   "nbconvert_exporter": "python",
   "pygments_lexer": "ipython3",
   "version": "3.6.4"
  }
 },
 "nbformat": 4,
 "nbformat_minor": 2
}
